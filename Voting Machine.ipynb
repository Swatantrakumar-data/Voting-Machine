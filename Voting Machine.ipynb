{
 "cells": [
  {
   "cell_type": "markdown",
   "metadata": {},
   "source": [
    "### VOTING MACHINE"
   ]
  },
  {
   "cell_type": "code",
   "execution_count": 6,
   "metadata": {},
   "outputs": [
    {
     "name": "stdout",
     "output_type": "stream",
     "text": [
      "enter name of nomani_1sona\n",
      "enter name of nomani_2vinit\n",
      "enter your voterid1\n",
      "you are a valid voter\n",
      "to give vote to sona press 1\n",
      "to give vote to vinit press 2\n",
      "1\n",
      "sona - thanks for your important vote\n",
      "enter your voterid2\n",
      "you are a valid voter\n",
      "to give vote to sona press 1\n",
      "to give vote to vinit press 2\n",
      "2\n",
      "vinit thanks for your important vote\n",
      "enter your voterid44\n",
      "Police!,arrest this froud\n",
      "enter your voterid3\n",
      "you are a valid voter\n",
      "to give vote to sona press 1\n",
      "to give vote to vinit press 2\n",
      "1\n",
      "sona - thanks for your important vote\n",
      "enter your voterid7\n",
      "you are a valid voter\n",
      "to give vote to sona press 1\n",
      "to give vote to vinit press 2\n",
      "1\n",
      "sona - thanks for your important vote\n",
      "enter your voterid9\n",
      "you are a valid voter\n",
      "to give vote to sona press 1\n",
      "to give vote to vinit press 2\n",
      "2\n",
      "vinit thanks for your important vote\n",
      "enter your voterid11\n",
      "you are a valid voter\n",
      "to give vote to sona press 1\n",
      "to give vote to vinit press 2\n",
      "2\n",
      "vinit thanks for your important vote\n",
      "enter your voterid15\n",
      "you are a valid voter\n",
      "to give vote to sona press 1\n",
      "to give vote to vinit press 2\n",
      "1\n",
      "sona - thanks for your important vote\n",
      "enter your voterid17\n",
      "you are a valid voter\n",
      "to give vote to sona press 1\n",
      "to give vote to vinit press 2\n",
      "1\n",
      "sona - thanks for your important vote\n",
      "enter your voterid18\n",
      "you are a valid voter\n",
      "to give vote to sona press 1\n",
      "to give vote to vinit press 2\n",
      "1\n",
      "sona - thanks for your important vote\n",
      "enter your voterid15\n",
      "you are a valid voter\n",
      "to give vote to sona press 1\n",
      "to give vote to vinit press 2\n",
      "1\n",
      "sona - thanks for your important vote\n",
      "voting is completed\n",
      "sona win the election by 70.0\n"
     ]
    }
   ],
   "source": [
    "nomani_1 = input(\"enter name of nomani_1\")\n",
    "nomani_2 = input(\"enter name of nomani_2\")\n",
    "n_1 = 0\n",
    "n_2 = 0\n",
    "voter_list = [1,2,7,3,9,11,15,18,17,15]\n",
    "while True:\n",
    "    if voter_list == []:\n",
    "        print(\"voting is completed\")\n",
    "        print(f\"{nomani_1} got vote {n_1}\")\n",
    "        print(f\"{nomani_2} got vote {n_2}\\n\")\n",
    "        if n_1>n_2:\n",
    "            percent = (n_1/(n_1+n_2))*100\n",
    "            print(f\"{nomani_1} win the election by {percent}\")\n",
    "            break\n",
    "        elif n_2>n_1:\n",
    "            percent = (n_2/(n_1+n_2))*100\n",
    "            print(f\"{nomani_2} win the election by {percent}\")\n",
    "            break\n",
    "        else:\n",
    "            print(f\"{nomani_1} and {nomani_2} get equal vote. so now govt decide who took position as winner\")\n",
    "            break\n",
    "        \n",
    "    voter_id = int(input('enter your voterid'))\n",
    "    if voter_id not in voter_list:\n",
    "        print(\"Police!,arrest this froud\")\n",
    "    else:\n",
    "        print(\"you are a valid voter\")\n",
    "        voter_list.remove(voter_id)\n",
    "        print(f\"to give vote to {nomani_1} press 1\")\n",
    "        print(f\"to give vote to {nomani_2} press 2\")\n",
    "        select = int(input())\n",
    "        if select==1:\n",
    "            print(f\"{nomani_1} - thanks for your important vote\")\n",
    "            n_1 +=1\n",
    "        elif select == 2:\n",
    "            print(f\"{nomani_2} thanks for your important vote\")\n",
    "            n_2 +=1\n",
    "        else:\n",
    "            print(\"plz select either of two option 1 or 2\")\n",
    "            \n",
    "            "
   ]
  },
  {
   "cell_type": "code",
   "execution_count": null,
   "metadata": {},
   "outputs": [],
   "source": []
  },
  {
   "cell_type": "code",
   "execution_count": null,
   "metadata": {},
   "outputs": [],
   "source": []
  },
  {
   "cell_type": "code",
   "execution_count": 7,
   "metadata": {},
   "outputs": [
    {
     "ename": "ModuleNotFoundError",
     "evalue": "No module named 'gTTs'",
     "output_type": "error",
     "traceback": [
      "\u001b[1;31m---------------------------------------------------------------------------\u001b[0m",
      "\u001b[1;31mModuleNotFoundError\u001b[0m                       Traceback (most recent call last)",
      "\u001b[1;32m<ipython-input-7-7bdf3991dce6>\u001b[0m in \u001b[0;36m<module>\u001b[1;34m\u001b[0m\n\u001b[1;32m----> 1\u001b[1;33m \u001b[1;32mfrom\u001b[0m \u001b[0mgTTs\u001b[0m \u001b[1;32mimport\u001b[0m \u001b[0mgTTS\u001b[0m\u001b[1;33m\u001b[0m\u001b[1;33m\u001b[0m\u001b[0m\n\u001b[0m",
      "\u001b[1;31mModuleNotFoundError\u001b[0m: No module named 'gTTs'"
     ]
    }
   ],
   "source": []
  },
  {
   "cell_type": "code",
   "execution_count": null,
   "metadata": {},
   "outputs": [],
   "source": []
  }
 ],
 "metadata": {
  "kernelspec": {
   "display_name": "Python 3",
   "language": "python",
   "name": "python3"
  },
  "language_info": {
   "codemirror_mode": {
    "name": "ipython",
    "version": 3
   },
   "file_extension": ".py",
   "mimetype": "text/x-python",
   "name": "python",
   "nbconvert_exporter": "python",
   "pygments_lexer": "ipython3",
   "version": "3.7.6"
  }
 },
 "nbformat": 4,
 "nbformat_minor": 4
}
